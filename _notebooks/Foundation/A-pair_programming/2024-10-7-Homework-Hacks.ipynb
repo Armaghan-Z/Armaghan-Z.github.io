{
 "cells": [
  {
   "cell_type": "raw",
   "metadata": {
    "vscode": {
     "languageId": "raw"
    }
   },
   "source": [
    "---\n",
    "layout: post\n",
    "title: \"Team Teach 10/7/20224\"\n",
    "description: Things I have done and attempted\n",
    "permalink: /homework_hacks/\n",
    "type: issues\n",
    "comments: true\n",
    "---"
   ]
  },
  {
   "cell_type": "markdown",
   "metadata": {},
   "source": [
    "# 3.1.2 Hack 1"
   ]
  },
  {
   "cell_type": "code",
   "execution_count": 12,
   "metadata": {},
   "outputs": [
    {
     "name": "stdout",
     "output_type": "stream",
     "text": [
      "Step 1: Value is 42, Type is <class 'int'>\n",
      "Step 2: Value is 42.0, Type is <class 'float'>\n",
      "Step 3: Value is 'forty-two', Type is <class 'str'>\n",
      "Step 4: Value is True, Type is <class 'bool'>\n"
     ]
    }
   ],
   "source": [
    "# Step 1: Initialize the variable as an integer\n",
    "my_var = 42\n",
    "print(f\"Step 1: Value is {my_var}, Type is {type(my_var)}\")\n",
    "\n",
    "# Step 2: Reassign the variable to a float\n",
    "my_var = 42.0\n",
    "print(f\"Step 2: Value is {my_var}, Type is {type(my_var)}\")\n",
    "\n",
    "# Step 3: Reassign the variable to a string\n",
    "my_var = \"forty-two\"\n",
    "print(f\"Step 3: Value is '{my_var}', Type is {type(my_var)}\")\n",
    "\n",
    "# Step 4: Reassign the variable to a boolean\n",
    "my_var = True\n",
    "print(f\"Step 4: Value is {my_var}, Type is {type(my_var)}\")\n"
   ]
  },
  {
   "cell_type": "markdown",
   "metadata": {},
   "source": [
    "## 3.1.4 Hack 1: Naming Variables for User Profile"
   ]
  },
  {
   "cell_type": "code",
   "execution_count": 13,
   "metadata": {},
   "outputs": [
    {
     "name": "stdout",
     "output_type": "stream",
     "text": [
      "Armaghan Zarak, aged 15, can be contacted at Armaghanz@email.com and has a balance of $9470016 in his account.\n"
     ]
    }
   ],
   "source": [
    "# Step 1: Assigning descriptive variable names and values\n",
    "user_full_name = \"Armaghan Zarak\"\n",
    "user_age = 15\n",
    "user_email = \"Armaghanz@email.com\"\n",
    "user_account_balance = 9470016\n",
    "\n",
    "# Step 2: Displaying the user profile information in a formatted sentence\n",
    "print(f\"{user_full_name}, aged {user_age}, can be contacted at {user_email} and has a balance of ${user_account_balance} in his account.\")\n"
   ]
  },
  {
   "cell_type": "markdown",
   "metadata": {},
   "source": [
    "# 3.4.2 Hack 1:"
   ]
  },
  {
   "cell_type": "code",
   "execution_count": 7,
   "metadata": {
    "vscode": {
     "languageId": "javascript"
    }
   },
   "outputs": [
    {
     "name": "stdout",
     "output_type": "stream",
     "text": [
      "Original: was it a car or a cat I saw?\n",
      "Reversed: ?was I tac a ro rac a ti saw\n"
     ]
    }
   ],
   "source": [
    " # Function to reverse a string\n",
    "def reverse_string(input_string):\n",
    "    # Use slicing to reverse the string\n",
    "    return input_string[::-1]\n",
    "# Example usage\n",
    "user_input = \"was it a car or a cat I saw?\"\n",
    "reversed_output = reverse_string(user_input)\n",
    "print(f\"Original: {user_input}\\nReversed: {reversed_output}\")"
   ]
  },
  {
   "cell_type": "markdown",
   "metadata": {},
   "source": [
    "# 3.4.4 Hack 1"
   ]
  },
  {
   "cell_type": "code",
   "execution_count": 3,
   "metadata": {
    "vscode": {
     "languageId": "javascript"
    }
   },
   "outputs": [
    {
     "ename": "SyntaxError",
     "evalue": "invalid syntax (3439137755.py, line 1)",
     "output_type": "error",
     "traceback": [
      "\u001b[0;36m  Cell \u001b[0;32mIn[3], line 1\u001b[0;36m\u001b[0m\n\u001b[0;31m    *(String, containing, all, African, countries, separated, by, commas, */)\u001b[0m\n\u001b[0m                                                                           ^\u001b[0m\n\u001b[0;31mSyntaxError\u001b[0m\u001b[0;31m:\u001b[0m invalid syntax\n"
     ]
    }
   ],
   "source": [
    "/* String containing all African countries separated by commas */\n",
    "let countriesString = \"Algeria, Angola, Benin, Botswana, Burkina Faso, Burundi, Cabo Verde, Cameroon, Central African Republic, Chad, Comoros, Congo (Congo-Brazzaville), Cote d’Ivoire, Djibouti, DR Congo (Congo-Kinshasa), Egypt, Equatorial Guinea, Eritrea, Eswatini, Ethiopia, Gabon, Gambia, Ghana, Guinea, Guinea-Bissau, Kenya, Lesotho, Liberia, Libya, Madagascar, Malawi, Mali, Mauritania, Mauritius, Morocco, Mozambique, Namibia, Niger, Nigeria, Rwanda, Sao Tome and Principe, Senegal, Seychelles, Sierra Leone, Somalia, South Africa, South Sudan, Sudan, Tanzania, Togo, Tunisia, Uganda, Zambia, Zimbabwe\";\n",
    "\n",
    "/* Convert the string into an array */\n",
    "let countriesArray = countriesString.split(\", \");\n",
    "\n",
    "/* Output the array to the console */\n",
    "console.log(countriesArray);"
   ]
  }
 ],
 "metadata": {
  "kernelspec": {
   "display_name": "Python 3 (ipykernel)",
   "language": "python",
   "name": "python3"
  },
  "language_info": {
   "codemirror_mode": {
    "name": "ipython",
    "version": 3
   },
   "file_extension": ".py",
   "mimetype": "text/x-python",
   "name": "python",
   "nbconvert_exporter": "python",
   "pygments_lexer": "ipython3",
   "version": "3.12.7"
  },
  "orig_nbformat": 4
 },
 "nbformat": 4,
 "nbformat_minor": 2
}
