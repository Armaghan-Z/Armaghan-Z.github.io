{
 "cells": [
  {
   "cell_type": "raw",
   "metadata": {
    "vscode": {
     "languageId": "raw"
    }
   },
   "source": [
    "---\n",
    "layout: post\n",
    "title: \"Attempted vs Accomplished\"\n",
    "description: Things I have done and attempted\n",
    "permalink: /attempted_vs_accomplished/\n",
    "type: issues\n",
    "comments: true\n",
    "---"
   ]
  },
  {
   "cell_type": "markdown",
   "metadata": {},
   "source": [
    "## Attempted\n",
    "- **Exploration of Python Programming**: I focused on understanding the basics of Python, including data types, control structures, and functions. I experimented with different coding exercises to solidify my grasp on these concepts.\n",
    "- **Jupyter Notebooks**: I started using Jupyter Notebooks for coding practice, which helped me visualize data and run Python code interactively. This was particularly useful for experimenting with libraries like NumPy and Matplotlib.\n",
    "- **Version Control with Git**: I attempted to integrate Git into my workflow to manage changes in my code and collaborate with others. I practiced commands like `git commit`, `git push`, and `git pull`.\n",
    "\n",
    "## Accomplished\n",
    "- **Completed Python Projects**: I successfully completed several small projects, including a basic calculator and a simple data analysis script using Pandas. These projects allowed me to apply my Python skills in practical scenarios.\n",
    "- **Enhanced Jupyter Notebook Skills**: I became proficient in using Jupyter Notebooks, learning to format text, add images, and visualize data effectively. This has improved my ability to present coding work clearly.\n",
    "- **Mastered Git Basics**: I mastered the fundamental Git commands and created a GitHub repository to showcase my work. This experience enhanced my understanding of version control and collaboration in coding projects.\n"
   ]
  }
 ],
 "metadata": {
  "language_info": {
   "name": "python"
  },
  "orig_nbformat": 4
 },
 "nbformat": 4,
 "nbformat_minor": 2
}
