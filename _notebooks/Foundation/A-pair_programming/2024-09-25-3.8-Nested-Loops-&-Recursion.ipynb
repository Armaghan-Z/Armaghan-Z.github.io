{
 "cells": [
  {
   "cell_type": "raw",
   "metadata": {
    "vscode": {
     "languageId": "raw"
    }
   },
   "source": [
    "---\n",
    "layout: post\n",
    "title: \"3.8 Nested Loops & Recursion\"\n",
    "description: My subsection for 3.8 group project\n",
    "permalink: /Nested_loops_&_Recursion/\n",
    "type: issues\n",
    "comments: true\n",
    "---"
   ]
  },
  {
   "cell_type": "code",
   "execution_count": 1,
   "metadata": {},
   "outputs": [
    {
     "name": "stdout",
     "output_type": "stream",
     "text": [
      "Armaghan is cool\n",
      "Elliot is cool\n",
      "Armaghan and Elliot love to code code code\n",
      "Nikhil is cool\n",
      "Hithin is cool\n",
      "Nikhil and Hithin love to code code code\n"
     ]
    }
   ],
   "source": [
    "groups = [['Armaghan', 'Elliot'], ['Nikhil', 'Hithin']]\n",
    "\n",
    "for pair in groups:\n",
    "    for person in pair:\n",
    "        print(person + ' is cool')\n",
    "    print(pair[0] + ' and ' + pair[1] + ' love to code code code')\n"
   ]
  },
  {
   "cell_type": "code",
   "execution_count": 16,
   "metadata": {},
   "outputs": [
    {
     "name": "stdout",
     "output_type": "stream",
     "text": [
      "Factorial of 6 is 720\n"
     ]
    }
   ],
   "source": [
    "def factorial(n):\n",
    "    if n == 0:  # Conditions to stop the recursion\n",
    "        return 1  # 0! is 1\n",
    "    elif n < 0:\n",
    "        return \"undefined\"  # Undefined for negative numbers \n",
    "    elif isinstance(n, float):\n",
    "        return \"not solvable without gamma function\"  # Only accept integers\n",
    "    else:\n",
    "        return n * factorial(n - 1)  # Function calling itself\n",
    "\n",
    "num = int(input(\"Enter a number to calculate its factorial: \"))  # User input for any number\n",
    "result = factorial(num)\n",
    "print(f\"Factorial of {num} is\", result)\n"
   ]
  }
 ],
 "metadata": {
  "kernelspec": {
   "display_name": "venv",
   "language": "python",
   "name": "python3"
  },
  "language_info": {
   "codemirror_mode": {
    "name": "ipython",
    "version": 3
   },
   "file_extension": ".py",
   "mimetype": "text/x-python",
   "name": "python",
   "nbconvert_exporter": "python",
   "pygments_lexer": "ipython3",
   "version": "3.12.6"
  }
 },
 "nbformat": 4,
 "nbformat_minor": 2
}
